{
 "cells": [
  {
   "cell_type": "code",
   "execution_count": 132,
   "id": "e789d8e8",
   "metadata": {},
   "outputs": [],
   "source": [
    "## importing laibaries\n",
    "import pandas as pd\n",
    "import matplotlib.pyplot as plt\n",
    "import seaborn as sns\n",
    "import numpy as np"
   ]
  },
  {
   "cell_type": "code",
   "execution_count": 133,
   "id": "f9fba797",
   "metadata": {},
   "outputs": [],
   "source": [
    "## loading data set\n",
    "df=pd.read_csv('gas_turbines.csv')"
   ]
  },
  {
   "cell_type": "code",
   "execution_count": 134,
   "id": "27981183",
   "metadata": {},
   "outputs": [
    {
     "data": {
      "text/plain": [
       "(15039, 11)"
      ]
     },
     "execution_count": 134,
     "metadata": {},
     "output_type": "execute_result"
    }
   ],
   "source": [
    "## checking shape of the dataset\n",
    "df.shape"
   ]
  },
  {
   "cell_type": "code",
   "execution_count": 135,
   "id": "915c9a11",
   "metadata": {},
   "outputs": [
    {
     "data": {
      "text/html": [
       "<div>\n",
       "<style scoped>\n",
       "    .dataframe tbody tr th:only-of-type {\n",
       "        vertical-align: middle;\n",
       "    }\n",
       "\n",
       "    .dataframe tbody tr th {\n",
       "        vertical-align: top;\n",
       "    }\n",
       "\n",
       "    .dataframe thead th {\n",
       "        text-align: right;\n",
       "    }\n",
       "</style>\n",
       "<table border=\"1\" class=\"dataframe\">\n",
       "  <thead>\n",
       "    <tr style=\"text-align: right;\">\n",
       "      <th></th>\n",
       "      <th>AT</th>\n",
       "      <th>AP</th>\n",
       "      <th>AH</th>\n",
       "      <th>AFDP</th>\n",
       "      <th>GTEP</th>\n",
       "      <th>TIT</th>\n",
       "      <th>TAT</th>\n",
       "      <th>TEY</th>\n",
       "      <th>CDP</th>\n",
       "      <th>CO</th>\n",
       "      <th>NOX</th>\n",
       "    </tr>\n",
       "  </thead>\n",
       "  <tbody>\n",
       "    <tr>\n",
       "      <th>0</th>\n",
       "      <td>6.8594</td>\n",
       "      <td>1007.9</td>\n",
       "      <td>96.799</td>\n",
       "      <td>3.5000</td>\n",
       "      <td>19.663</td>\n",
       "      <td>1059.2</td>\n",
       "      <td>550.00</td>\n",
       "      <td>114.70</td>\n",
       "      <td>10.605</td>\n",
       "      <td>3.1547</td>\n",
       "      <td>82.722</td>\n",
       "    </tr>\n",
       "    <tr>\n",
       "      <th>1</th>\n",
       "      <td>6.7850</td>\n",
       "      <td>1008.4</td>\n",
       "      <td>97.118</td>\n",
       "      <td>3.4998</td>\n",
       "      <td>19.728</td>\n",
       "      <td>1059.3</td>\n",
       "      <td>550.00</td>\n",
       "      <td>114.72</td>\n",
       "      <td>10.598</td>\n",
       "      <td>3.2363</td>\n",
       "      <td>82.776</td>\n",
       "    </tr>\n",
       "    <tr>\n",
       "      <th>2</th>\n",
       "      <td>6.8977</td>\n",
       "      <td>1008.8</td>\n",
       "      <td>95.939</td>\n",
       "      <td>3.4824</td>\n",
       "      <td>19.779</td>\n",
       "      <td>1059.4</td>\n",
       "      <td>549.87</td>\n",
       "      <td>114.71</td>\n",
       "      <td>10.601</td>\n",
       "      <td>3.2012</td>\n",
       "      <td>82.468</td>\n",
       "    </tr>\n",
       "    <tr>\n",
       "      <th>3</th>\n",
       "      <td>7.0569</td>\n",
       "      <td>1009.2</td>\n",
       "      <td>95.249</td>\n",
       "      <td>3.4805</td>\n",
       "      <td>19.792</td>\n",
       "      <td>1059.6</td>\n",
       "      <td>549.99</td>\n",
       "      <td>114.72</td>\n",
       "      <td>10.606</td>\n",
       "      <td>3.1923</td>\n",
       "      <td>82.670</td>\n",
       "    </tr>\n",
       "    <tr>\n",
       "      <th>4</th>\n",
       "      <td>7.3978</td>\n",
       "      <td>1009.7</td>\n",
       "      <td>95.150</td>\n",
       "      <td>3.4976</td>\n",
       "      <td>19.765</td>\n",
       "      <td>1059.7</td>\n",
       "      <td>549.98</td>\n",
       "      <td>114.72</td>\n",
       "      <td>10.612</td>\n",
       "      <td>3.2484</td>\n",
       "      <td>82.311</td>\n",
       "    </tr>\n",
       "    <tr>\n",
       "      <th>5</th>\n",
       "      <td>7.6998</td>\n",
       "      <td>1010.7</td>\n",
       "      <td>92.708</td>\n",
       "      <td>3.5236</td>\n",
       "      <td>19.683</td>\n",
       "      <td>1059.8</td>\n",
       "      <td>549.97</td>\n",
       "      <td>114.72</td>\n",
       "      <td>10.626</td>\n",
       "      <td>3.4467</td>\n",
       "      <td>82.409</td>\n",
       "    </tr>\n",
       "    <tr>\n",
       "      <th>6</th>\n",
       "      <td>7.7901</td>\n",
       "      <td>1011.6</td>\n",
       "      <td>91.983</td>\n",
       "      <td>3.5298</td>\n",
       "      <td>19.659</td>\n",
       "      <td>1060.0</td>\n",
       "      <td>549.87</td>\n",
       "      <td>114.71</td>\n",
       "      <td>10.644</td>\n",
       "      <td>3.4874</td>\n",
       "      <td>82.440</td>\n",
       "    </tr>\n",
       "    <tr>\n",
       "      <th>7</th>\n",
       "      <td>7.7139</td>\n",
       "      <td>1012.7</td>\n",
       "      <td>91.348</td>\n",
       "      <td>3.5088</td>\n",
       "      <td>19.673</td>\n",
       "      <td>1059.8</td>\n",
       "      <td>549.92</td>\n",
       "      <td>114.71</td>\n",
       "      <td>10.656</td>\n",
       "      <td>3.6043</td>\n",
       "      <td>83.010</td>\n",
       "    </tr>\n",
       "    <tr>\n",
       "      <th>8</th>\n",
       "      <td>7.7975</td>\n",
       "      <td>1013.8</td>\n",
       "      <td>90.196</td>\n",
       "      <td>3.5141</td>\n",
       "      <td>19.634</td>\n",
       "      <td>1060.1</td>\n",
       "      <td>550.09</td>\n",
       "      <td>114.72</td>\n",
       "      <td>10.644</td>\n",
       "      <td>3.3943</td>\n",
       "      <td>82.284</td>\n",
       "    </tr>\n",
       "    <tr>\n",
       "      <th>9</th>\n",
       "      <td>8.0820</td>\n",
       "      <td>1015.0</td>\n",
       "      <td>88.597</td>\n",
       "      <td>4.0612</td>\n",
       "      <td>23.406</td>\n",
       "      <td>1083.0</td>\n",
       "      <td>550.21</td>\n",
       "      <td>131.70</td>\n",
       "      <td>11.679</td>\n",
       "      <td>1.9081</td>\n",
       "      <td>82.782</td>\n",
       "    </tr>\n",
       "  </tbody>\n",
       "</table>\n",
       "</div>"
      ],
      "text/plain": [
       "       AT      AP      AH    AFDP    GTEP     TIT     TAT     TEY     CDP  \\\n",
       "0  6.8594  1007.9  96.799  3.5000  19.663  1059.2  550.00  114.70  10.605   \n",
       "1  6.7850  1008.4  97.118  3.4998  19.728  1059.3  550.00  114.72  10.598   \n",
       "2  6.8977  1008.8  95.939  3.4824  19.779  1059.4  549.87  114.71  10.601   \n",
       "3  7.0569  1009.2  95.249  3.4805  19.792  1059.6  549.99  114.72  10.606   \n",
       "4  7.3978  1009.7  95.150  3.4976  19.765  1059.7  549.98  114.72  10.612   \n",
       "5  7.6998  1010.7  92.708  3.5236  19.683  1059.8  549.97  114.72  10.626   \n",
       "6  7.7901  1011.6  91.983  3.5298  19.659  1060.0  549.87  114.71  10.644   \n",
       "7  7.7139  1012.7  91.348  3.5088  19.673  1059.8  549.92  114.71  10.656   \n",
       "8  7.7975  1013.8  90.196  3.5141  19.634  1060.1  550.09  114.72  10.644   \n",
       "9  8.0820  1015.0  88.597  4.0612  23.406  1083.0  550.21  131.70  11.679   \n",
       "\n",
       "       CO     NOX  \n",
       "0  3.1547  82.722  \n",
       "1  3.2363  82.776  \n",
       "2  3.2012  82.468  \n",
       "3  3.1923  82.670  \n",
       "4  3.2484  82.311  \n",
       "5  3.4467  82.409  \n",
       "6  3.4874  82.440  \n",
       "7  3.6043  83.010  \n",
       "8  3.3943  82.284  \n",
       "9  1.9081  82.782  "
      ]
     },
     "execution_count": 135,
     "metadata": {},
     "output_type": "execute_result"
    }
   ],
   "source": [
    "## checking the data set\n",
    "df.head(10)"
   ]
  },
  {
   "cell_type": "markdown",
   "id": "3d2d7737",
   "metadata": {},
   "source": [
    "## From our problem statement ambient varibles are features and turbine energy yield is target so we drop others column !"
   ]
  },
  {
   "cell_type": "code",
   "execution_count": 136,
   "id": "6e80574a",
   "metadata": {},
   "outputs": [],
   "source": [
    "df1=df.drop(['GTEP','TIT','TAT','CDP','CO','NOX'],axis=1)"
   ]
  },
  {
   "cell_type": "code",
   "execution_count": 137,
   "id": "4e835007",
   "metadata": {},
   "outputs": [
    {
     "data": {
      "text/html": [
       "<div>\n",
       "<style scoped>\n",
       "    .dataframe tbody tr th:only-of-type {\n",
       "        vertical-align: middle;\n",
       "    }\n",
       "\n",
       "    .dataframe tbody tr th {\n",
       "        vertical-align: top;\n",
       "    }\n",
       "\n",
       "    .dataframe thead th {\n",
       "        text-align: right;\n",
       "    }\n",
       "</style>\n",
       "<table border=\"1\" class=\"dataframe\">\n",
       "  <thead>\n",
       "    <tr style=\"text-align: right;\">\n",
       "      <th></th>\n",
       "      <th>AT</th>\n",
       "      <th>AP</th>\n",
       "      <th>AH</th>\n",
       "      <th>AFDP</th>\n",
       "      <th>TEY</th>\n",
       "    </tr>\n",
       "  </thead>\n",
       "  <tbody>\n",
       "    <tr>\n",
       "      <th>0</th>\n",
       "      <td>6.8594</td>\n",
       "      <td>1007.9</td>\n",
       "      <td>96.799</td>\n",
       "      <td>3.5000</td>\n",
       "      <td>114.70</td>\n",
       "    </tr>\n",
       "    <tr>\n",
       "      <th>1</th>\n",
       "      <td>6.7850</td>\n",
       "      <td>1008.4</td>\n",
       "      <td>97.118</td>\n",
       "      <td>3.4998</td>\n",
       "      <td>114.72</td>\n",
       "    </tr>\n",
       "    <tr>\n",
       "      <th>2</th>\n",
       "      <td>6.8977</td>\n",
       "      <td>1008.8</td>\n",
       "      <td>95.939</td>\n",
       "      <td>3.4824</td>\n",
       "      <td>114.71</td>\n",
       "    </tr>\n",
       "    <tr>\n",
       "      <th>3</th>\n",
       "      <td>7.0569</td>\n",
       "      <td>1009.2</td>\n",
       "      <td>95.249</td>\n",
       "      <td>3.4805</td>\n",
       "      <td>114.72</td>\n",
       "    </tr>\n",
       "    <tr>\n",
       "      <th>4</th>\n",
       "      <td>7.3978</td>\n",
       "      <td>1009.7</td>\n",
       "      <td>95.150</td>\n",
       "      <td>3.4976</td>\n",
       "      <td>114.72</td>\n",
       "    </tr>\n",
       "  </tbody>\n",
       "</table>\n",
       "</div>"
      ],
      "text/plain": [
       "       AT      AP      AH    AFDP     TEY\n",
       "0  6.8594  1007.9  96.799  3.5000  114.70\n",
       "1  6.7850  1008.4  97.118  3.4998  114.72\n",
       "2  6.8977  1008.8  95.939  3.4824  114.71\n",
       "3  7.0569  1009.2  95.249  3.4805  114.72\n",
       "4  7.3978  1009.7  95.150  3.4976  114.72"
      ]
     },
     "execution_count": 137,
     "metadata": {},
     "output_type": "execute_result"
    }
   ],
   "source": [
    "df1.head()"
   ]
  },
  {
   "cell_type": "markdown",
   "id": "81c2877c",
   "metadata": {},
   "source": [
    "## EDA & Visualization."
   ]
  },
  {
   "cell_type": "code",
   "execution_count": 138,
   "id": "89f0a2d6",
   "metadata": {},
   "outputs": [
    {
     "data": {
      "image/png": "[encoded data removed]",
      "text/plain": [
       "<Figure size 432x288 with 1 Axes>"
      ]
     },
     "metadata": {
      "needs_background": "light"
     },
     "output_type": "display_data"
    }
   ],
   "source": [
    "## Histogram\n",
    "sns.distplot(df1['AT'])\n",
    "import warnings\n",
    "warnings.filterwarnings('ignore')"
   ]
  },
  {
   "cell_type": "code",
   "execution_count": 139,
   "id": "07fde105",
   "metadata": {},
   "outputs": [
    {
     "data": {
      "text/plain": [
       "<AxesSubplot:xlabel='AT'>"
      ]
     },
     "execution_count": 139,
     "metadata": {},
     "output_type": "execute_result"
    },
    {
     "data": {
      "image/png": "[encoded data removed]",
      "text/plain": [
       "<Figure size 432x288 with 1 Axes>"
      ]
     },
     "metadata": {
      "needs_background": "light"
     },
     "output_type": "display_data"
    }
   ],
   "source": [
    "## boxplot for AT\n",
    "sns.boxplot(df1['AT'])"
   ]
  },
  {
   "cell_type": "code",
   "execution_count": 140,
   "id": "db6f30cc",
   "metadata": {},
   "outputs": [
    {
     "data": {
      "text/plain": [
       "<AxesSubplot:xlabel='AP', ylabel='Density'>"
      ]
     },
     "execution_count": 140,
     "metadata": {},
     "output_type": "execute_result"
    },
    {
     "data": {
      "image/png": "[encoded data removed]",
      "text/plain": [
       "<Figure size 432x288 with 1 Axes>"
      ]
     },
     "metadata": {
      "needs_background": "light"
     },
     "output_type": "display_data"
    }
   ],
   "source": [
    "## histogram for AP\n",
    "sns.distplot(df1['AP'])"
   ]
  },
  {
   "cell_type": "code",
   "execution_count": 141,
   "id": "1a2893e3",
   "metadata": {},
   "outputs": [
    {
     "data": {
      "text/plain": [
       "<AxesSubplot:xlabel='AP'>"
      ]
     },
     "execution_count": 141,
     "metadata": {},
     "output_type": "execute_result"
    },
    {
     "data": {
      "image/png": "[encoded data removed]",
      "text/plain": [
       "<Figure size 432x288 with 1 Axes>"
      ]
     },
     "metadata": {
      "needs_background": "light"
     },
     "output_type": "display_data"
    }
   ],
   "source": [
    "sns.boxplot(df1['AP'])"
   ]
  },
  {
   "cell_type": "markdown",
   "id": "86e88655",
   "metadata": {},
   "source": [
    "### Outliers are observed so we need to deal with them !"
   ]
  },
  {
   "cell_type": "code",
   "execution_count": 142,
   "id": "a6e0e39a",
   "metadata": {},
   "outputs": [
    {
     "name": "stdout",
     "output_type": "stream",
     "text": [
      "Upper whisker:  1028.9\n",
      "Lower Whisker:  996.9\n"
     ]
    }
   ],
   "source": [
    "## Function to find wishker\n",
    "def outliers(df1, feature):\n",
    "    Q1= df1[feature].quantile(0.25)\n",
    "    Q3 = df1[feature].quantile(0.75)\n",
    "    IQR = Q3 - Q1\n",
    "    upper_limit = Q3 + 1.5 * IQR\n",
    "    lower_limit = Q1 - 1.5 * IQR\n",
    "    return upper_limit, lower_limit\n",
    "\n",
    "upper, lower = outliers(df1, \"AP\")\n",
    "print(\"Upper whisker: \", upper)\n",
    "print(\"Lower Whisker: \", lower)"
   ]
  },
  {
   "cell_type": "code",
   "execution_count": 143,
   "id": "673969f1",
   "metadata": {},
   "outputs": [
    {
     "data": {
      "text/plain": [
       "(214, 5)"
      ]
     },
     "execution_count": 143,
     "metadata": {},
     "output_type": "execute_result"
    }
   ],
   "source": [
    "## to find outliers\n",
    "df1[(df1['AP'] < lower) | (df1['AP'] > upper)].shape"
   ]
  },
  {
   "cell_type": "code",
   "execution_count": 144,
   "id": "a6eeb028",
   "metadata": {},
   "outputs": [],
   "source": [
    "## Droping outliers\n",
    "df2= df1[(df1['AP'] > lower) & (df1['AP'] < upper)]"
   ]
  },
  {
   "cell_type": "code",
   "execution_count": 145,
   "id": "24bbfb69",
   "metadata": {},
   "outputs": [
    {
     "data": {
      "text/plain": [
       "(14818, 5)"
      ]
     },
     "execution_count": 145,
     "metadata": {},
     "output_type": "execute_result"
    }
   ],
   "source": [
    "df2.shape"
   ]
  },
  {
   "cell_type": "code",
   "execution_count": 146,
   "id": "1902b597",
   "metadata": {},
   "outputs": [
    {
     "data": {
      "text/plain": [
       "<AxesSubplot:xlabel='AP'>"
      ]
     },
     "execution_count": 146,
     "metadata": {},
     "output_type": "execute_result"
    },
    {
     "data": {
      "image/png": "[encoded data removed]",
      "text/plain": [
       "<Figure size 432x288 with 1 Axes>"
      ]
     },
     "metadata": {
      "needs_background": "light"
     },
     "output_type": "display_data"
    }
   ],
   "source": [
    "## boxplot\n",
    "sns.boxplot(df2['AP'])"
   ]
  },
  {
   "cell_type": "code",
   "execution_count": 147,
   "id": "9e73df05",
   "metadata": {},
   "outputs": [
    {
     "data": {
      "text/plain": [
       "<AxesSubplot:xlabel='AH'>"
      ]
     },
     "execution_count": 147,
     "metadata": {},
     "output_type": "execute_result"
    },
    {
     "data": {
      "image/png": "[encoded data removed]",
      "text/plain": [
       "<Figure size 432x288 with 1 Axes>"
      ]
     },
     "metadata": {
      "needs_background": "light"
     },
     "output_type": "display_data"
    }
   ],
   "source": [
    "## checking for the AH\n",
    "sns.boxplot(df2['AH'])"
   ]
  },
  {
   "cell_type": "code",
   "execution_count": 148,
   "id": "b5c64072",
   "metadata": {},
   "outputs": [
    {
     "name": "stdout",
     "output_type": "stream",
     "text": [
      "Upper whisker:  120.56500000000001\n",
      "Lower Whisker:  39.21499999999999\n"
     ]
    }
   ],
   "source": [
    "## Function to find wishker\n",
    "def outliers(df2, feature):\n",
    "    Q1= df2[feature].quantile(0.25)\n",
    "    Q3 = df2[feature].quantile(0.75)\n",
    "    IQR = Q3 - Q1\n",
    "    upper_limit = Q3 + 1.5 * IQR\n",
    "    lower_limit = Q1 - 1.5 * IQR\n",
    "    return upper_limit, lower_limit\n",
    "\n",
    "upper, lower = outliers(df2, \"AH\")\n",
    "print(\"Upper whisker: \", upper)\n",
    "print(\"Lower Whisker: \", lower)"
   ]
  },
  {
   "cell_type": "code",
   "execution_count": 149,
   "id": "5ee4b4c6",
   "metadata": {},
   "outputs": [
    {
     "data": {
      "text/plain": [
       "(55, 5)"
      ]
     },
     "execution_count": 149,
     "metadata": {},
     "output_type": "execute_result"
    }
   ],
   "source": [
    "## to find outliers\n",
    "df2[(df2['AH'] < lower) | (df2['AH'] > upper)].shape"
   ]
  },
  {
   "cell_type": "code",
   "execution_count": 150,
   "id": "bc0b01e2",
   "metadata": {},
   "outputs": [],
   "source": [
    "## Droping outliers\n",
    "df3= df2[(df2['AH'] > lower) & (df2['AH'] < upper)]"
   ]
  },
  {
   "cell_type": "code",
   "execution_count": 151,
   "id": "94b543cc",
   "metadata": {},
   "outputs": [
    {
     "data": {
      "text/plain": [
       "(14763, 5)"
      ]
     },
     "execution_count": 151,
     "metadata": {},
     "output_type": "execute_result"
    }
   ],
   "source": [
    "df3.shape"
   ]
  },
  {
   "cell_type": "code",
   "execution_count": 152,
   "id": "3bcbd716",
   "metadata": {},
   "outputs": [
    {
     "data": {
      "text/plain": [
       "<AxesSubplot:xlabel='AH'>"
      ]
     },
     "execution_count": 152,
     "metadata": {},
     "output_type": "execute_result"
    },
    {
     "data": {
      "image/png": "[encoded data removed]",
      "text/plain": [
       "<Figure size 432x288 with 1 Axes>"
      ]
     },
     "metadata": {
      "needs_background": "light"
     },
     "output_type": "display_data"
    }
   ],
   "source": [
    "sns.boxplot(df3['AH'])"
   ]
  },
  {
   "cell_type": "code",
   "execution_count": 153,
   "id": "741a1a2c",
   "metadata": {},
   "outputs": [
    {
     "data": {
      "text/plain": [
       "<AxesSubplot:xlabel='AFDP'>"
      ]
     },
     "execution_count": 153,
     "metadata": {},
     "output_type": "execute_result"
    },
    {
     "data": {
      "image/png": "[encoded data removed]",
      "text/plain": [
       "<Figure size 432x288 with 1 Axes>"
      ]
     },
     "metadata": {
      "needs_background": "light"
     },
     "output_type": "display_data"
    }
   ],
   "source": [
    "## checking for the AFDP\n",
    "sns.boxplot(df3['AFDP'])"
   ]
  },
  {
   "cell_type": "code",
   "execution_count": 154,
   "id": "aa9d9991",
   "metadata": {},
   "outputs": [
    {
     "name": "stdout",
     "output_type": "stream",
     "text": [
      "Upper whisker:  5.7928000000000015\n",
      "Lower Whisker:  2.4707999999999988\n"
     ]
    }
   ],
   "source": [
    "## Function to find wishker\n",
    "def outliers(df3, feature):\n",
    "    Q1= df3[feature].quantile(0.25)\n",
    "    Q3 = df3[feature].quantile(0.75)\n",
    "    IQR = Q3 - Q1\n",
    "    upper_limit = Q3 + 1.5 * IQR\n",
    "    lower_limit = Q1 - 1.5 * IQR\n",
    "    return upper_limit, lower_limit\n",
    "\n",
    "upper, lower = outliers(df3, \"AFDP\")\n",
    "print(\"Upper whisker: \", upper)\n",
    "print(\"Lower Whisker: \", lower)"
   ]
  },
  {
   "cell_type": "code",
   "execution_count": 155,
   "id": "54b9b554",
   "metadata": {},
   "outputs": [
    {
     "data": {
      "text/plain": [
       "(683, 5)"
      ]
     },
     "execution_count": 155,
     "metadata": {},
     "output_type": "execute_result"
    }
   ],
   "source": [
    "## to find outliers\n",
    "df3[(df3['AFDP'] < lower) | (df3['AFDP'] > upper)].shape"
   ]
  },
  {
   "cell_type": "code",
   "execution_count": 156,
   "id": "8fed6d2f",
   "metadata": {},
   "outputs": [],
   "source": [
    "## Droping outliers\n",
    "df4= df3[(df3['AFDP'] > lower) & (df3['AFDP'] < upper)]"
   ]
  },
  {
   "cell_type": "code",
   "execution_count": 157,
   "id": "4c1a981d",
   "metadata": {},
   "outputs": [
    {
     "data": {
      "text/plain": [
       "(14080, 5)"
      ]
     },
     "execution_count": 157,
     "metadata": {},
     "output_type": "execute_result"
    }
   ],
   "source": [
    "df4.shape"
   ]
  },
  {
   "cell_type": "code",
   "execution_count": 158,
   "id": "b6b93632",
   "metadata": {},
   "outputs": [
    {
     "data": {
      "text/plain": [
       "<AxesSubplot:xlabel='AFDP'>"
      ]
     },
     "execution_count": 158,
     "metadata": {},
     "output_type": "execute_result"
    },
    {
     "data": {
      "image/png": "[encoded data removed]",
      "text/plain": [
       "<Figure size 432x288 with 1 Axes>"
      ]
     },
     "metadata": {
      "needs_background": "light"
     },
     "output_type": "display_data"
    }
   ],
   "source": [
    "sns.boxplot(df4['AFDP'])"
   ]
  },
  {
   "cell_type": "code",
   "execution_count": 159,
   "id": "5cd1091d",
   "metadata": {},
   "outputs": [
    {
     "data": {
      "text/plain": [
       "<AxesSubplot:xlabel='TEY'>"
      ]
     },
     "execution_count": 159,
     "metadata": {},
     "output_type": "execute_result"
    },
    {
     "data": {
      "image/png": "[encoded data removed]",
      "text/plain": [
       "<Figure size 432x288 with 1 Axes>"
      ]
     },
     "metadata": {
      "needs_background": "light"
     },
     "output_type": "display_data"
    }
   ],
   "source": [
    "## Checking for TEY\n",
    "sns.boxplot(df4['TEY'])"
   ]
  },
  {
   "cell_type": "code",
   "execution_count": 160,
   "id": "5386f3f3",
   "metadata": {},
   "outputs": [
    {
     "name": "stdout",
     "output_type": "stream",
     "text": [
      "Upper whisker:  147.7\n",
      "Lower Whisker:  115.54\n"
     ]
    }
   ],
   "source": [
    "## Function to find wishker\n",
    "def outliers(df4, feature):\n",
    "    Q1= df4[feature].quantile(0.25)\n",
    "    Q3 = df4[feature].quantile(0.75)\n",
    "    IQR = Q3 - Q1\n",
    "    upper_limit = Q3 + 1.5 * IQR\n",
    "    lower_limit = Q1 - 1.5 * IQR\n",
    "    return upper_limit, lower_limit\n",
    "\n",
    "upper, lower = outliers(df4, \"TEY\")\n",
    "print(\"Upper whisker: \", upper)\n",
    "print(\"Lower Whisker: \", lower)"
   ]
  },
  {
   "cell_type": "code",
   "execution_count": 161,
   "id": "fb66182f",
   "metadata": {},
   "outputs": [
    {
     "data": {
      "text/plain": [
       "(5309, 5)"
      ]
     },
     "execution_count": 161,
     "metadata": {},
     "output_type": "execute_result"
    }
   ],
   "source": [
    "## to find outliers\n",
    "df4[(df4['TEY'] < lower) | (df4['TEY'] > upper)].shape"
   ]
  },
  {
   "cell_type": "code",
   "execution_count": 162,
   "id": "30b4d0a1",
   "metadata": {},
   "outputs": [],
   "source": [
    "## as outliers are more so they are replace with mean\n",
    "Q1 = df4['TEY'].quantile(0.25)\n",
    "Q3 = df4['TEY'].quantile(0.75)\n",
    "IQR = Q3 - Q1\n",
    "whisker_width = 1.5\n",
    "lower_whisker = Q1 -(whisker_width*IQR)\n",
    "upper_whisker = Q3 +( whisker_width*IQR)\n",
    "df4['TEY']=np.where(df4['TEY']>upper_whisker,upper_whisker,np.where\n",
    "                      (df4['TEY']<lower_whisker,lower_whisker,df4['TEY']))"
   ]
  },
  {
   "cell_type": "code",
   "execution_count": 163,
   "id": "cddf1319",
   "metadata": {},
   "outputs": [
    {
     "data": {
      "text/plain": [
       "<AxesSubplot:xlabel='TEY'>"
      ]
     },
     "execution_count": 163,
     "metadata": {},
     "output_type": "execute_result"
    },
    {
     "data": {
      "image/png": "[encoded data removed]",
      "text/plain": [
       "<Figure size 432x288 with 1 Axes>"
      ]
     },
     "metadata": {
      "needs_background": "light"
     },
     "output_type": "display_data"
    }
   ],
   "source": [
    "## Checking for TEY\n",
    "sns.boxplot(df4['TEY'])"
   ]
  },
  {
   "cell_type": "code",
   "execution_count": 164,
   "id": "8a2ca734",
   "metadata": {},
   "outputs": [
    {
     "data": {
      "text/plain": [
       "<AxesSubplot:xlabel='TEY', ylabel='Density'>"
      ]
     },
     "execution_count": 164,
     "metadata": {},
     "output_type": "execute_result"
    },
    {
     "data": {
      "image/png": "[encoded data removed]",
      "text/plain": [
       "<Figure size 432x288 with 1 Axes>"
      ]
     },
     "metadata": {
      "needs_background": "light"
     },
     "output_type": "display_data"
    }
   ],
   "source": [
    "sns.distplot(df4['TEY'])"
   ]
  },
  {
   "cell_type": "code",
   "execution_count": 165,
   "id": "41a30fd9",
   "metadata": {},
   "outputs": [
    {
     "data": {
      "image/png": "[encoded data removed]",
      "text/plain": [
       "<Figure size 1080x576 with 2 Axes>"
      ]
     },
     "metadata": {
      "needs_background": "light"
     },
     "output_type": "display_data"
    }
   ],
   "source": [
    "## Heat map\n",
    "plt.figure(figsize=(15,8))\n",
    "sns.heatmap(df4.corr(),annot=True)\n",
    "plt.show()"
   ]
  },
  {
   "cell_type": "markdown",
   "id": "c7fcb446",
   "metadata": {},
   "source": [
    "## all outliers are removed !"
   ]
  },
  {
   "cell_type": "code",
   "execution_count": 166,
   "id": "7dc98edc",
   "metadata": {},
   "outputs": [],
   "source": [
    "## Distributed features ad target value.\n",
    "X=df4.drop(['TEY'],axis=1)\n",
    "Y=df4['TEY']"
   ]
  },
  {
   "cell_type": "code",
   "execution_count": 167,
   "id": "b37b471c",
   "metadata": {},
   "outputs": [],
   "source": [
    "from sklearn.preprocessing import StandardScaler\n",
    "stc= StandardScaler()"
   ]
  },
  {
   "cell_type": "code",
   "execution_count": 168,
   "id": "0df68428",
   "metadata": {},
   "outputs": [],
   "source": [
    "x=stc.fit_transform(X)"
   ]
  },
  {
   "cell_type": "code",
   "execution_count": 169,
   "id": "7cf7a630",
   "metadata": {},
   "outputs": [
    {
     "data": {
      "text/html": [
       "<div>\n",
       "<style scoped>\n",
       "    .dataframe tbody tr th:only-of-type {\n",
       "        vertical-align: middle;\n",
       "    }\n",
       "\n",
       "    .dataframe tbody tr th {\n",
       "        vertical-align: top;\n",
       "    }\n",
       "\n",
       "    .dataframe thead th {\n",
       "        text-align: right;\n",
       "    }\n",
       "</style>\n",
       "<table border=\"1\" class=\"dataframe\">\n",
       "  <thead>\n",
       "    <tr style=\"text-align: right;\">\n",
       "      <th></th>\n",
       "      <th>0</th>\n",
       "      <th>1</th>\n",
       "      <th>2</th>\n",
       "      <th>3</th>\n",
       "    </tr>\n",
       "  </thead>\n",
       "  <tbody>\n",
       "    <tr>\n",
       "      <th>count</th>\n",
       "      <td>1.408000e+04</td>\n",
       "      <td>1.408000e+04</td>\n",
       "      <td>1.408000e+04</td>\n",
       "      <td>1.408000e+04</td>\n",
       "    </tr>\n",
       "    <tr>\n",
       "      <th>mean</th>\n",
       "      <td>-1.010713e-16</td>\n",
       "      <td>2.263907e-14</td>\n",
       "      <td>3.294398e-16</td>\n",
       "      <td>-3.125025e-16</td>\n",
       "    </tr>\n",
       "    <tr>\n",
       "      <th>std</th>\n",
       "      <td>1.000036e+00</td>\n",
       "      <td>1.000036e+00</td>\n",
       "      <td>1.000036e+00</td>\n",
       "      <td>1.000036e+00</td>\n",
       "    </tr>\n",
       "    <tr>\n",
       "      <th>min</th>\n",
       "      <td>-2.329850e+00</td>\n",
       "      <td>-2.748396e+00</td>\n",
       "      <td>-2.926389e+00</td>\n",
       "      <td>-2.541225e+00</td>\n",
       "    </tr>\n",
       "    <tr>\n",
       "      <th>25%</th>\n",
       "      <td>-8.257157e-01</td>\n",
       "      <td>-6.975231e-01</td>\n",
       "      <td>-6.918126e-01</td>\n",
       "      <td>-6.586658e-01</td>\n",
       "    </tr>\n",
       "    <tr>\n",
       "      <th>50%</th>\n",
       "      <td>7.140733e-02</td>\n",
       "      <td>-7.502694e-02</td>\n",
       "      <td>2.231130e-01</td>\n",
       "      <td>3.153602e-02</td>\n",
       "    </tr>\n",
       "    <tr>\n",
       "      <th>75%</th>\n",
       "      <td>8.066854e-01</td>\n",
       "      <td>5.979419e-01</td>\n",
       "      <td>7.972808e-01</td>\n",
       "      <td>5.409209e-01</td>\n",
       "    </tr>\n",
       "    <tr>\n",
       "      <th>max</th>\n",
       "      <td>2.242029e+00</td>\n",
       "      <td>2.616848e+00</td>\n",
       "      <td>1.551323e+00</td>\n",
       "      <td>2.511605e+00</td>\n",
       "    </tr>\n",
       "  </tbody>\n",
       "</table>\n",
       "</div>"
      ],
      "text/plain": [
       "                  0             1             2             3\n",
       "count  1.408000e+04  1.408000e+04  1.408000e+04  1.408000e+04\n",
       "mean  -1.010713e-16  2.263907e-14  3.294398e-16 -3.125025e-16\n",
       "std    1.000036e+00  1.000036e+00  1.000036e+00  1.000036e+00\n",
       "min   -2.329850e+00 -2.748396e+00 -2.926389e+00 -2.541225e+00\n",
       "25%   -8.257157e-01 -6.975231e-01 -6.918126e-01 -6.586658e-01\n",
       "50%    7.140733e-02 -7.502694e-02  2.231130e-01  3.153602e-02\n",
       "75%    8.066854e-01  5.979419e-01  7.972808e-01  5.409209e-01\n",
       "max    2.242029e+00  2.616848e+00  1.551323e+00  2.511605e+00"
      ]
     },
     "execution_count": 169,
     "metadata": {},
     "output_type": "execute_result"
    }
   ],
   "source": [
    "pd.DataFrame(x).describe()"
   ]
  },
  {
   "cell_type": "markdown",
   "id": "6ebcb39a",
   "metadata": {},
   "source": [
    "## Model building"
   ]
  },
  {
   "cell_type": "code",
   "execution_count": 170,
   "id": "9940b736",
   "metadata": {},
   "outputs": [],
   "source": [
    "# Importing the laibaries\n",
    "from keras.models import Sequential\n",
    "from keras.layers import Dense\n",
    "from keras.wrappers.scikit_learn import KerasRegressor\n",
    "from tensorflow.keras.optimizers import Adam\n",
    "from tensorflow.keras.optimizers import RMSprop \n",
    "from keras.callbacks import EarlyStopping"
   ]
  },
  {
   "cell_type": "code",
   "execution_count": 171,
   "id": "871f2699",
   "metadata": {},
   "outputs": [],
   "source": [
    "from sklearn.model_selection import train_test_split\n",
    "x_train, x_test, Y_train, Y_test = train_test_split(x, Y, test_size=0.3, random_state=42)"
   ]
  },
  {
   "cell_type": "code",
   "execution_count": 172,
   "id": "168e9594",
   "metadata": {},
   "outputs": [
    {
     "data": {
      "text/plain": [
       "((9856, 4), (9856,))"
      ]
     },
     "execution_count": 172,
     "metadata": {},
     "output_type": "execute_result"
    }
   ],
   "source": [
    "x_train.shape,Y_train.shape"
   ]
  },
  {
   "cell_type": "markdown",
   "id": "5434aa6a",
   "metadata": {},
   "source": [
    "### Creating model"
   ]
  },
  {
   "cell_type": "code",
   "execution_count": 174,
   "id": "d3d55165",
   "metadata": {},
   "outputs": [],
   "source": [
    "import tensorflow as tf\n",
    "model = Sequential()\n",
    "model.add(Dense(units=20, activation='relu'))\n",
    "model.add(Dense(units=20, activation='tanh'))\n",
    "model.add(Dense(units=20, activation='softmax'))"
   ]
  },
  {
   "cell_type": "code",
   "execution_count": 175,
   "id": "5b48a93f",
   "metadata": {},
   "outputs": [],
   "source": [
    "model.compile(\n",
    "   loss = 'mse', \n",
    "   optimizer = RMSprop(), \n",
    "   metrics = ['mean_absolute_error']\n",
    ")"
   ]
  },
  {
   "cell_type": "markdown",
   "id": "689d2da0",
   "metadata": {},
   "source": [
    "### Fitting model."
   ]
  },
  {
   "cell_type": "code",
   "execution_count": 176,
   "id": "a45d5e5c",
   "metadata": {},
   "outputs": [
    {
     "name": "stdout",
     "output_type": "stream",
     "text": [
      "Epoch 1/500\n",
      "66/66 [==============================] - 0s 2ms/step - loss: 17685.0742 - mean_absolute_error: 132.5511 - val_loss: 17707.5723 - val_mean_absolute_error: 132.6452\n",
      "Epoch 2/500\n",
      "66/66 [==============================] - 0s 1ms/step - loss: 17685.0703 - mean_absolute_error: 132.5511 - val_loss: 17707.5723 - val_mean_absolute_error: 132.6452\n",
      "Epoch 3/500\n",
      "66/66 [==============================] - 0s 1ms/step - loss: 17685.0723 - mean_absolute_error: 132.5511 - val_loss: 17707.5703 - val_mean_absolute_error: 132.6452\n",
      "Epoch 4/500\n",
      "66/66 [==============================] - 0s 1ms/step - loss: 17685.0703 - mean_absolute_error: 132.5511 - val_loss: 17707.5703 - val_mean_absolute_error: 132.6452\n",
      "Epoch 5/500\n",
      "66/66 [==============================] - 0s 2ms/step - loss: 17685.0723 - mean_absolute_error: 132.5511 - val_loss: 17707.5723 - val_mean_absolute_error: 132.6452\n",
      "Epoch 6/500\n",
      "66/66 [==============================] - 0s 1ms/step - loss: 17685.0723 - mean_absolute_error: 132.5511 - val_loss: 17707.5703 - val_mean_absolute_error: 132.6452\n",
      "Epoch 7/500\n",
      "66/66 [==============================] - 0s 1ms/step - loss: 17685.0703 - mean_absolute_error: 132.5511 - val_loss: 17707.5723 - val_mean_absolute_error: 132.6452\n",
      "Epoch 8/500\n",
      "66/66 [==============================] - 0s 1ms/step - loss: 17685.0723 - mean_absolute_error: 132.5511 - val_loss: 17707.5723 - val_mean_absolute_error: 132.6452\n",
      "Epoch 9/500\n",
      "66/66 [==============================] - 0s 1ms/step - loss: 17685.0703 - mean_absolute_error: 132.5511 - val_loss: 17707.5703 - val_mean_absolute_error: 132.6452\n",
      "Epoch 10/500\n",
      "66/66 [==============================] - 0s 1ms/step - loss: 17685.0742 - mean_absolute_error: 132.5511 - val_loss: 17707.5703 - val_mean_absolute_error: 132.6452\n",
      "Epoch 11/500\n",
      "66/66 [==============================] - 0s 1ms/step - loss: 17685.0703 - mean_absolute_error: 132.5511 - val_loss: 17707.5723 - val_mean_absolute_error: 132.6452\n",
      "Epoch 12/500\n",
      "66/66 [==============================] - 0s 1ms/step - loss: 17685.0684 - mean_absolute_error: 132.5511 - val_loss: 17707.5723 - val_mean_absolute_error: 132.6452\n",
      "Epoch 13/500\n",
      "66/66 [==============================] - 0s 1ms/step - loss: 17685.0723 - mean_absolute_error: 132.5511 - val_loss: 17707.5703 - val_mean_absolute_error: 132.6452\n",
      "Epoch 14/500\n",
      "66/66 [==============================] - 0s 1ms/step - loss: 17685.0723 - mean_absolute_error: 132.5511 - val_loss: 17707.5723 - val_mean_absolute_error: 132.6452\n",
      "Epoch 15/500\n",
      "66/66 [==============================] - 0s 1ms/step - loss: 17685.0703 - mean_absolute_error: 132.5511 - val_loss: 17707.5723 - val_mean_absolute_error: 132.6452\n",
      "Epoch 16/500\n",
      "66/66 [==============================] - 0s 1ms/step - loss: 17685.0723 - mean_absolute_error: 132.5511 - val_loss: 17707.5723 - val_mean_absolute_error: 132.6452\n",
      "Epoch 17/500\n",
      "66/66 [==============================] - 0s 1ms/step - loss: 17685.0742 - mean_absolute_error: 132.5511 - val_loss: 17707.5703 - val_mean_absolute_error: 132.6452\n",
      "Epoch 18/500\n",
      "66/66 [==============================] - 0s 1ms/step - loss: 17685.0723 - mean_absolute_error: 132.5511 - val_loss: 17707.5703 - val_mean_absolute_error: 132.6452\n",
      "Epoch 19/500\n",
      "66/66 [==============================] - 0s 1ms/step - loss: 17685.0703 - mean_absolute_error: 132.5511 - val_loss: 17707.5723 - val_mean_absolute_error: 132.6452\n",
      "Epoch 20/500\n",
      "66/66 [==============================] - 0s 1ms/step - loss: 17685.0742 - mean_absolute_error: 132.5511 - val_loss: 17707.5703 - val_mean_absolute_error: 132.6452\n",
      "Epoch 21/500\n",
      "66/66 [==============================] - 0s 1ms/step - loss: 17685.0684 - mean_absolute_error: 132.5511 - val_loss: 17707.5723 - val_mean_absolute_error: 132.6452\n",
      "Epoch 22/500\n",
      "66/66 [==============================] - 0s 1ms/step - loss: 17685.0684 - mean_absolute_error: 132.5511 - val_loss: 17707.5703 - val_mean_absolute_error: 132.6452\n",
      "Epoch 23/500\n",
      "66/66 [==============================] - 0s 1ms/step - loss: 17685.0703 - mean_absolute_error: 132.5511 - val_loss: 17707.5723 - val_mean_absolute_error: 132.6452\n"
     ]
    },
    {
     "data": {
      "text/plain": [
       "<keras.callbacks.History at 0x2c42272ac40>"
      ]
     },
     "execution_count": 176,
     "metadata": {},
     "output_type": "execute_result"
    }
   ],
   "source": [
    "model.fit(\n",
    "x_train, Y_train,    \n",
    "   batch_size=120, \n",
    "   epochs = 500, \n",
    "   verbose = 1, validation_split = 0.2,\n",
    "   callbacks = [EarlyStopping(monitor = 'val_loss', patience = 20)]\n",
    ")"
   ]
  },
  {
   "cell_type": "code",
   "execution_count": 178,
   "id": "b1ff32d0",
   "metadata": {},
   "outputs": [
    {
     "name": "stdout",
     "output_type": "stream",
     "text": [
      "Test loss: 17677.662109375\n",
      "Test accuracy: 132.53265380859375\n"
     ]
    }
   ],
   "source": [
    "## Accuracy of the model\n",
    "score = model.evaluate(x_test, Y_test, verbose = 0) \n",
    "print('Test loss:', score[0]) \n",
    "print('Test accuracy:', score[1])"
   ]
  },
  {
   "cell_type": "code",
   "execution_count": 179,
   "id": "05223928",
   "metadata": {},
   "outputs": [
    {
     "name": "stdout",
     "output_type": "stream",
     "text": [
      "[[0.05003607 0.04989262 0.05003644 ... 0.05054918 0.05000737 0.05038926]\n",
      " [0.05002242 0.04997637 0.05004805 ... 0.05013013 0.05001693 0.05007436]\n",
      " [0.05003177 0.04986574 0.04998048 ... 0.0505515  0.05016634 0.05027731]\n",
      " ...\n",
      " [0.04996252 0.04992205 0.05015253 ... 0.05041464 0.04997351 0.05021112]\n",
      " [0.04998582 0.04993647 0.05004789 ... 0.05028379 0.05007574 0.05012744]\n",
      " [0.04997327 0.0498673  0.04993718 ... 0.05037633 0.05011049 0.05023555]]\n"
     ]
    }
   ],
   "source": [
    "## Predicting the deat data\n",
    "y_pred=model.predict(x_test)\n",
    "print(y_pred)"
   ]
  },
  {
   "cell_type": "markdown",
   "id": "9214cc13",
   "metadata": {},
   "source": [
    "# Our model's Mean absolute error is 132.53"
   ]
  },
  {
   "cell_type": "code",
   "execution_count": null,
   "id": "04da216b",
   "metadata": {},
   "outputs": [],
   "source": []
  }
 ],
 "metadata": {
  "kernelspec": {
   "display_name": "Python 3 (ipykernel)",
   "language": "python",
   "name": "python3"
  },
  "language_info": {
   "codemirror_mode": {
    "name": "ipython",
    "version": 3
   },
   "file_extension": ".py",
   "mimetype": "text/x-python",
   "name": "python",
   "nbconvert_exporter": "python",
   "pygments_lexer": "ipython3",
   "version": "3.9.7"
  }
 },
 "nbformat": 4,
 "nbformat_minor": 5
}
